{
 "cells": [
  {
   "cell_type": "code",
   "execution_count": 71,
   "metadata": {},
   "outputs": [],
   "source": [
    "import pandas as pd\n",
    "import torch\n",
    "from sklearn.model_selection import GroupShuffleSplit, train_test_split \n",
    "from models import latent_annotator_clustering, utils, MLP \n",
    "import seaborn as sns\n",
    "import nltk\n",
    "from nltk.corpus import stopwords\n",
    "import numpy as np\n",
    "import matplotlib.pyplot as plt"
   ]
  },
  {
   "cell_type": "code",
   "execution_count": 16,
   "metadata": {},
   "outputs": [],
   "source": [
    "df = pd.read_csv('./data/largeScale.csv')\n",
    "# remove unnamed column\n",
    "df = df.loc[:, ~df.columns.str.contains('^Unnamed')]\n",
    "df = df.drop_duplicates()"
   ]
  },
  {
   "cell_type": "code",
   "execution_count": 17,
   "metadata": {},
   "outputs": [],
   "source": [
    "# df_aae = df[df[\"isAAE\"] == True]\n",
    "df_aae = df"
   ]
  },
  {
   "cell_type": "code",
   "execution_count": 18,
   "metadata": {},
   "outputs": [
    {
     "name": "stderr",
     "output_type": "stream",
     "text": [
      "/var/folders/rx/yph03t6935g4rx_gyjbqlhk00000gn/T/ipykernel_53219/2504770886.py:19: SettingWithCopyWarning: \n",
      "A value is trying to be set on a copy of a slice from a DataFrame.\n",
      "Try using .loc[row_indexer,col_indexer] = value instead\n",
      "\n",
      "See the caveats in the documentation: https://pandas.pydata.org/pandas-docs/stable/user_guide/indexing.html#returning-a-view-versus-a-copy\n",
      "  df_aae['toyou'] -= 1\n",
      "/var/folders/rx/yph03t6935g4rx_gyjbqlhk00000gn/T/ipykernel_53219/2504770886.py:20: SettingWithCopyWarning: \n",
      "A value is trying to be set on a copy of a slice from a DataFrame.\n",
      "Try using .loc[row_indexer,col_indexer] = value instead\n",
      "\n",
      "See the caveats in the documentation: https://pandas.pydata.org/pandas-docs/stable/user_guide/indexing.html#returning-a-view-versus-a-copy\n",
      "  df_aae['toany'] -= 1\n",
      "/var/folders/rx/yph03t6935g4rx_gyjbqlhk00000gn/T/ipykernel_53219/2504770886.py:22: SettingWithCopyWarning: \n",
      "A value is trying to be set on a copy of a slice from a DataFrame.\n",
      "Try using .loc[row_indexer,col_indexer] = value instead\n",
      "\n",
      "See the caveats in the documentation: https://pandas.pydata.org/pandas-docs/stable/user_guide/indexing.html#returning-a-view-versus-a-copy\n",
      "  df_aae[\"annId\"] = df_aae[\"annId\"].map(annotator2id)\n"
     ]
    }
   ],
   "source": [
    "df_aae_annotator = df_aae[['annId', 'annotatorAge', 'annotatorGender', 'annotatorMinority', 'annotatorRace', 'annotatorPolitics']].drop_duplicates()\n",
    "\n",
    "\n",
    "ann_to_remove = df_aae_annotator[df_aae_annotator[\"annId\"].duplicated() == True]['annId'].unique().tolist()\n",
    "df_aae = df_aae[~df_aae[\"annId\"].isin(ann_to_remove)]\n",
    "df_aae_annotator = df_aae_annotator[~df_aae_annotator[\"annId\"].isin(ann_to_remove)]\n",
    "\n",
    "# post_counts = df_aae['postId'].value_counts()\n",
    "\n",
    "# df_aae = df_aae[df_aae['postId'].isin(post_counts[post_counts > 1].index)]\n",
    "\n",
    "\n",
    "annotator_ids = df_aae_annotator['annId'].unique().tolist()\n",
    "\n",
    "id2annotator = {index: row for (index, row) in enumerate(annotator_ids)}\n",
    "annotator2id = {row: index for (index, row) in enumerate(annotator_ids)}\n",
    "\n",
    "# minimize the toyou and toany columns by 1\n",
    "df_aae['toyou'] -= 1\n",
    "df_aae['toany'] -= 1\n",
    "\n",
    "df_aae[\"annId\"] = df_aae[\"annId\"].map(annotator2id)\n",
    "df_aae_annotator[\"annId\"] = df_aae_annotator[\"annId\"].map(annotator2id)\n",
    "\n",
    "df_aae = df_aae[['annId', 'toyou', 'toany', 'postId', 'tweet', 'ogLabelToxic' ]]"
   ]
  },
  {
   "cell_type": "code",
   "execution_count": 19,
   "metadata": {},
   "outputs": [
    {
     "data": {
      "text/plain": [
       "545     6\n",
       "3511    6\n",
       "77      6\n",
       "1642    6\n",
       "3338    6\n",
       "       ..\n",
       "1865    2\n",
       "415     2\n",
       "3472    2\n",
       "1842    2\n",
       "3405    1\n",
       "Name: postId, Length: 627, dtype: int64"
      ]
     },
     "execution_count": 19,
     "metadata": {},
     "output_type": "execute_result"
    }
   ],
   "source": [
    "post_counts"
   ]
  },
  {
   "attachments": {},
   "cell_type": "markdown",
   "metadata": {},
   "source": [
    "# Latent Annotator Clustering model"
   ]
  },
  {
   "cell_type": "code",
   "execution_count": 6,
   "metadata": {},
   "outputs": [],
   "source": [
    "splitter = GroupShuffleSplit(test_size=0.2, n_splits=2, random_state = 0)\n",
    "split = splitter.split(df_aae, groups = df_aae['postId'])\n",
    "train_inds, test_inds = next(split)\n",
    "\n",
    "\n",
    "train_df = df_aae.iloc[train_inds]\n",
    "test_df = df_aae.iloc[test_inds]\n",
    "\n",
    "train_df = train_df.sample(frac=1)\n",
    "test_df = test_df.sample(frac=1)"
   ]
  },
  {
   "cell_type": "code",
   "execution_count": 7,
   "metadata": {},
   "outputs": [
    {
     "data": {
      "text/plain": [
       "160"
      ]
     },
     "execution_count": 7,
     "metadata": {},
     "output_type": "execute_result"
    }
   ],
   "source": [
    "len(train_df[\"annId\"].unique().tolist())"
   ]
  },
  {
   "cell_type": "code",
   "execution_count": 8,
   "metadata": {},
   "outputs": [
    {
     "data": {
      "text/plain": [
       "96"
      ]
     },
     "execution_count": 8,
     "metadata": {},
     "output_type": "execute_result"
    }
   ],
   "source": [
    "len(test_df[\"annId\"].unique().tolist())\n"
   ]
  },
  {
   "cell_type": "code",
   "execution_count": 9,
   "metadata": {},
   "outputs": [
    {
     "data": {
      "text/plain": [
       "184"
      ]
     },
     "execution_count": 9,
     "metadata": {},
     "output_type": "execute_result"
    }
   ],
   "source": [
    "len(df[\"annId\"].unique())"
   ]
  },
  {
   "cell_type": "code",
   "execution_count": 10,
   "metadata": {},
   "outputs": [
    {
     "data": {
      "text/plain": [
       "3457"
      ]
     },
     "execution_count": 10,
     "metadata": {},
     "output_type": "execute_result"
    }
   ],
   "source": [
    "len(df)"
   ]
  },
  {
   "cell_type": "code",
   "execution_count": 111,
   "metadata": {},
   "outputs": [],
   "source": [
    "pivot_df = pd.pivot_table(\n",
    "    train_df,\n",
    "    values='toany',\n",
    "    index='postId',\n",
    "    columns='annId'\n",
    "    )\n",
    "\n",
    "pivot_df = pivot_df.fillna(-1)"
   ]
  },
  {
   "cell_type": "code",
   "execution_count": 112,
   "metadata": {},
   "outputs": [],
   "source": [
    "pivot_df.index.name = None\n",
    "pivot_df.columns.name = None"
   ]
  },
  {
   "cell_type": "code",
   "execution_count": 113,
   "metadata": {},
   "outputs": [],
   "source": [
    "data = list()\n",
    "\n",
    "# Iterate over the rows of the DataFrame\n",
    "for index, row in pivot_df.iterrows():\n",
    "    data.append(list())\n",
    "    for a in row.index:\n",
    "    # Extract the annotator and annotation values from the row\n",
    "        annotator = a\n",
    "        annotation = int(row[a])\n",
    "        # print(annotator, annotation)\n",
    "        if(annotation  != -1):\n",
    "        # Append the (annotator, annotation) pair to the data list\n",
    "            data[-1].append((annotator, annotation))"
   ]
  },
  {
   "cell_type": "code",
   "execution_count": 114,
   "metadata": {},
   "outputs": [],
   "source": [
    "A_ls, B_ls, C_ls, elbos_ls = latent_annotator_clustering.evaluate(data, len(df_aae[\"toany\"].unique()), len(df[\"annId\"].unique()), 20,100, smoothing=True, logspace=True)"
   ]
  },
  {
   "cell_type": "code",
   "execution_count": 115,
   "metadata": {},
   "outputs": [],
   "source": [
    "clusters = B_ls.argmax(axis=1)"
   ]
  },
  {
   "cell_type": "code",
   "execution_count": 116,
   "metadata": {},
   "outputs": [
    {
     "data": {
      "text/html": [
       "<div>\n",
       "<style scoped>\n",
       "    .dataframe tbody tr th:only-of-type {\n",
       "        vertical-align: middle;\n",
       "    }\n",
       "\n",
       "    .dataframe tbody tr th {\n",
       "        vertical-align: top;\n",
       "    }\n",
       "\n",
       "    .dataframe thead th {\n",
       "        text-align: right;\n",
       "    }\n",
       "</style>\n",
       "<table border=\"1\" class=\"dataframe\">\n",
       "  <thead>\n",
       "    <tr style=\"text-align: right;\">\n",
       "      <th></th>\n",
       "      <th>annId</th>\n",
       "      <th>annotatorAge</th>\n",
       "      <th>annotatorGender</th>\n",
       "      <th>annotatorMinority</th>\n",
       "      <th>annotatorRace</th>\n",
       "      <th>annotatorPolitics</th>\n",
       "    </tr>\n",
       "  </thead>\n",
       "  <tbody>\n",
       "    <tr>\n",
       "      <th>0</th>\n",
       "      <td>0</td>\n",
       "      <td>40.0</td>\n",
       "      <td>woman</td>\n",
       "      <td>{}</td>\n",
       "      <td>black</td>\n",
       "      <td>-0.5</td>\n",
       "    </tr>\n",
       "    <tr>\n",
       "      <th>1</th>\n",
       "      <td>1</td>\n",
       "      <td>35.0</td>\n",
       "      <td>man</td>\n",
       "      <td>{}</td>\n",
       "      <td>black</td>\n",
       "      <td>0.0</td>\n",
       "    </tr>\n",
       "    <tr>\n",
       "      <th>3</th>\n",
       "      <td>2</td>\n",
       "      <td>45.0</td>\n",
       "      <td>man</td>\n",
       "      <td>{}</td>\n",
       "      <td>black</td>\n",
       "      <td>0.0</td>\n",
       "    </tr>\n",
       "    <tr>\n",
       "      <th>6</th>\n",
       "      <td>3</td>\n",
       "      <td>30.0</td>\n",
       "      <td>woman</td>\n",
       "      <td>{}</td>\n",
       "      <td>black</td>\n",
       "      <td>-0.5</td>\n",
       "    </tr>\n",
       "    <tr>\n",
       "      <th>8</th>\n",
       "      <td>4</td>\n",
       "      <td>40.0</td>\n",
       "      <td>woman</td>\n",
       "      <td>black; female</td>\n",
       "      <td>black</td>\n",
       "      <td>-1.0</td>\n",
       "    </tr>\n",
       "    <tr>\n",
       "      <th>...</th>\n",
       "      <td>...</td>\n",
       "      <td>...</td>\n",
       "      <td>...</td>\n",
       "      <td>...</td>\n",
       "      <td>...</td>\n",
       "      <td>...</td>\n",
       "    </tr>\n",
       "    <tr>\n",
       "      <th>3304</th>\n",
       "      <td>170</td>\n",
       "      <td>30.0</td>\n",
       "      <td>woman</td>\n",
       "      <td>{}</td>\n",
       "      <td>white</td>\n",
       "      <td>0.5</td>\n",
       "    </tr>\n",
       "    <tr>\n",
       "      <th>3317</th>\n",
       "      <td>171</td>\n",
       "      <td>30.0</td>\n",
       "      <td>man</td>\n",
       "      <td>None</td>\n",
       "      <td>white</td>\n",
       "      <td>-0.5</td>\n",
       "    </tr>\n",
       "    <tr>\n",
       "      <th>3385</th>\n",
       "      <td>172</td>\n",
       "      <td>30.0</td>\n",
       "      <td>man</td>\n",
       "      <td>{}</td>\n",
       "      <td>white</td>\n",
       "      <td>-1.0</td>\n",
       "    </tr>\n",
       "    <tr>\n",
       "      <th>3402</th>\n",
       "      <td>173</td>\n",
       "      <td>40.0</td>\n",
       "      <td>woman</td>\n",
       "      <td>{}</td>\n",
       "      <td>white</td>\n",
       "      <td>-1.0</td>\n",
       "    </tr>\n",
       "    <tr>\n",
       "      <th>3443</th>\n",
       "      <td>174</td>\n",
       "      <td>65.0</td>\n",
       "      <td>woman</td>\n",
       "      <td>senior citizen, gender identity</td>\n",
       "      <td>white</td>\n",
       "      <td>-1.0</td>\n",
       "    </tr>\n",
       "  </tbody>\n",
       "</table>\n",
       "<p>175 rows × 6 columns</p>\n",
       "</div>"
      ],
      "text/plain": [
       "      annId  annotatorAge annotatorGender                annotatorMinority  \\\n",
       "0         0          40.0           woman                               {}   \n",
       "1         1          35.0             man                               {}   \n",
       "3         2          45.0             man                               {}   \n",
       "6         3          30.0           woman                               {}   \n",
       "8         4          40.0           woman                    black; female   \n",
       "...     ...           ...             ...                              ...   \n",
       "3304    170          30.0           woman                               {}   \n",
       "3317    171          30.0             man                             None   \n",
       "3385    172          30.0             man                               {}   \n",
       "3402    173          40.0           woman                               {}   \n",
       "3443    174          65.0           woman  senior citizen, gender identity   \n",
       "\n",
       "     annotatorRace  annotatorPolitics  \n",
       "0            black               -0.5  \n",
       "1            black                0.0  \n",
       "3            black                0.0  \n",
       "6            black               -0.5  \n",
       "8            black               -1.0  \n",
       "...            ...                ...  \n",
       "3304         white                0.5  \n",
       "3317         white               -0.5  \n",
       "3385         white               -1.0  \n",
       "3402         white               -1.0  \n",
       "3443         white               -1.0  \n",
       "\n",
       "[175 rows x 6 columns]"
      ]
     },
     "execution_count": 116,
     "metadata": {},
     "output_type": "execute_result"
    }
   ],
   "source": [
    "df_aae_annotator"
   ]
  },
  {
   "cell_type": "code",
   "execution_count": 117,
   "metadata": {},
   "outputs": [],
   "source": [
    "df_indices = train_df['annId'].unique().tolist()  # Get the indices present in the DataFrame column\n",
    "clusters = [item for i,item in enumerate(clusters) if i in df_indices] "
   ]
  },
  {
   "cell_type": "code",
   "execution_count": 118,
   "metadata": {},
   "outputs": [
    {
     "data": {
      "text/plain": [
       "164"
      ]
     },
     "execution_count": 118,
     "metadata": {},
     "output_type": "execute_result"
    }
   ],
   "source": [
    "len(clusters)"
   ]
  },
  {
   "cell_type": "code",
   "execution_count": 119,
   "metadata": {},
   "outputs": [],
   "source": [
    "df_aae_annotator_trained = df_aae_annotator[df_aae_annotator[\"annId\"].isin(df_indices)]"
   ]
  },
  {
   "cell_type": "code",
   "execution_count": 120,
   "metadata": {},
   "outputs": [
    {
     "data": {
      "text/plain": [
       "164"
      ]
     },
     "execution_count": 120,
     "metadata": {},
     "output_type": "execute_result"
    }
   ],
   "source": [
    "len(df_aae_annotator_trained)"
   ]
  },
  {
   "cell_type": "code",
   "execution_count": 121,
   "metadata": {},
   "outputs": [
    {
     "data": {
      "text/plain": [
       "<Axes: xlabel='Cluster'>"
      ]
     },
     "execution_count": 121,
     "metadata": {},
     "output_type": "execute_result"
    },
    {
     "data": {
      "image/png": "[encoded data removed]",
      "text/plain": [
       "<Figure size 640x480 with 1 Axes>"
      ]
     },
     "metadata": {},
     "output_type": "display_data"
    }
   ],
   "source": [
    "data = pd.DataFrame({'Cluster': clusters, 'Age': df_aae_annotator_trained.iloc[:, 1]})\n",
    "grouped_data = data.groupby(['Cluster', 'Age']).size().reset_index(name='Count')\n",
    "pivot_table = grouped_data.pivot(index='Cluster', columns='Age', values='Count')\n",
    "pivot_table.plot(kind='bar', stacked=True)"
   ]
  },
  {
   "cell_type": "code",
   "execution_count": 122,
   "metadata": {},
   "outputs": [
    {
     "data": {
      "text/plain": [
       "<Axes: xlabel='Cluster'>"
      ]
     },
     "execution_count": 122,
     "metadata": {},
     "output_type": "execute_result"
    },
    {
     "data": {
      "image/png": "[encoded data removed]",
      "text/plain": [
       "<Figure size 640x480 with 1 Axes>"
      ]
     },
     "metadata": {},
     "output_type": "display_data"
    }
   ],
   "source": [
    "data = pd.DataFrame({'Cluster': clusters, \"Race\": df_aae_annotator_trained.iloc[:, 4]})\n",
    "grouped_data = data.groupby(['Cluster', 'Race']).size().reset_index(name='Count')\n",
    "pivot_table = grouped_data.pivot(index='Cluster', columns='Race', values='Count')\n",
    "pivot_table.plot(kind='bar', stacked=True)"
   ]
  },
  {
   "cell_type": "code",
   "execution_count": 123,
   "metadata": {},
   "outputs": [
    {
     "data": {
      "text/plain": [
       "<Axes: xlabel='Cluster'>"
      ]
     },
     "execution_count": 123,
     "metadata": {},
     "output_type": "execute_result"
    },
    {
     "data": {
      "image/png": "[encoded data removed]",
      "text/plain": [
       "<Figure size 640x480 with 1 Axes>"
      ]
     },
     "metadata": {},
     "output_type": "display_data"
    }
   ],
   "source": [
    "data = pd.DataFrame({'Cluster': clusters, 'Politics': df_aae_annotator_trained.iloc[:, 5]})\n",
    "grouped_data = data.groupby(['Cluster', 'Politics']).size().reset_index(name='Count')\n",
    "pivot_table = grouped_data.pivot(index='Cluster', columns='Politics', values='Count')\n",
    "pivot_table.plot(kind='bar', stacked=True)"
   ]
  },
  {
   "cell_type": "code",
   "execution_count": 124,
   "metadata": {},
   "outputs": [
    {
     "name": "stderr",
     "output_type": "stream",
     "text": [
      "/var/folders/rx/yph03t6935g4rx_gyjbqlhk00000gn/T/ipykernel_50202/1012471928.py:5: SettingWithCopyWarning: \n",
      "A value is trying to be set on a copy of a slice from a DataFrame.\n",
      "Try using .loc[row_indexer,col_indexer] = value instead\n",
      "\n",
      "See the caveats in the documentation: https://pandas.pydata.org/pandas-docs/stable/user_guide/indexing.html#returning-a-view-versus-a-copy\n",
      "  df_aae_annotator_trained[\"combined\"] = df_aae_annotator_trained[to_combine].apply(lambda x: ' '.join(x.astype(str)), axis=1)\n"
     ]
    }
   ],
   "source": [
    "# categorical_columns = [ 'gender', 'age_group']\n",
    "# demographics_df['CombinedCategories'] = demographics_df[categorical_columns].apply(lambda x: ' '.join(x.astype(str)), axis=1)\n",
    "\n",
    "to_combine = [\"annotatorRace\", \"annotatorPolitics\"]\n",
    "df_aae_annotator_trained[\"combined\"] = df_aae_annotator_trained[to_combine].apply(lambda x: ' '.join(x.astype(str)), axis=1)"
   ]
  },
  {
   "cell_type": "code",
   "execution_count": 125,
   "metadata": {},
   "outputs": [
    {
     "data": {
      "text/plain": [
       "<Axes: xlabel='Cluster'>"
      ]
     },
     "execution_count": 125,
     "metadata": {},
     "output_type": "execute_result"
    },
    {
     "data": {
      "image/png": "[encoded data removed]",
      "text/plain": [
       "<Figure size 1000x600 with 1 Axes>"
      ]
     },
     "metadata": {},
     "output_type": "display_data"
    }
   ],
   "source": [
    "# Define a custom color palette with 15 colors\n",
    "custom_palette = sns.color_palette('tab20', 15)\n",
    "\n",
    "data = pd.DataFrame({'Cluster': clusters, 'Race+Politics': df_aae_annotator_trained.iloc[:, 6]})\n",
    "grouped_data = data.groupby(['Cluster', 'Race+Politics']).size().reset_index(name='Count')\n",
    "pivot_table = grouped_data.pivot(index='Cluster', columns='Race+Politics', values='Count')\n",
    "pivot_table.plot(kind='bar', stacked=True, color=custom_palette, figsize=(10, 6))"
   ]
  },
  {
   "cell_type": "code",
   "execution_count": 126,
   "metadata": {},
   "outputs": [
    {
     "data": {
      "text/html": [
       "<div>\n",
       "<style scoped>\n",
       "    .dataframe tbody tr th:only-of-type {\n",
       "        vertical-align: middle;\n",
       "    }\n",
       "\n",
       "    .dataframe tbody tr th {\n",
       "        vertical-align: top;\n",
       "    }\n",
       "\n",
       "    .dataframe thead th {\n",
       "        text-align: right;\n",
       "    }\n",
       "</style>\n",
       "<table border=\"1\" class=\"dataframe\">\n",
       "  <thead>\n",
       "    <tr style=\"text-align: right;\">\n",
       "      <th></th>\n",
       "      <th>postId</th>\n",
       "      <th>Count</th>\n",
       "    </tr>\n",
       "  </thead>\n",
       "  <tbody>\n",
       "    <tr>\n",
       "      <th>626</th>\n",
       "      <td>4151</td>\n",
       "      <td>6</td>\n",
       "    </tr>\n",
       "    <tr>\n",
       "      <th>200</th>\n",
       "      <td>1681</td>\n",
       "      <td>6</td>\n",
       "    </tr>\n",
       "    <tr>\n",
       "      <th>208</th>\n",
       "      <td>1697</td>\n",
       "      <td>6</td>\n",
       "    </tr>\n",
       "    <tr>\n",
       "      <th>207</th>\n",
       "      <td>1695</td>\n",
       "      <td>6</td>\n",
       "    </tr>\n",
       "    <tr>\n",
       "      <th>464</th>\n",
       "      <td>3406</td>\n",
       "      <td>6</td>\n",
       "    </tr>\n",
       "    <tr>\n",
       "      <th>...</th>\n",
       "      <td>...</td>\n",
       "      <td>...</td>\n",
       "    </tr>\n",
       "    <tr>\n",
       "      <th>310</th>\n",
       "      <td>2159</td>\n",
       "      <td>2</td>\n",
       "    </tr>\n",
       "    <tr>\n",
       "      <th>386</th>\n",
       "      <td>3051</td>\n",
       "      <td>2</td>\n",
       "    </tr>\n",
       "    <tr>\n",
       "      <th>604</th>\n",
       "      <td>3973</td>\n",
       "      <td>2</td>\n",
       "    </tr>\n",
       "    <tr>\n",
       "      <th>298</th>\n",
       "      <td>2132</td>\n",
       "      <td>2</td>\n",
       "    </tr>\n",
       "    <tr>\n",
       "      <th>463</th>\n",
       "      <td>3405</td>\n",
       "      <td>1</td>\n",
       "    </tr>\n",
       "  </tbody>\n",
       "</table>\n",
       "<p>627 rows × 2 columns</p>\n",
       "</div>"
      ],
      "text/plain": [
       "     postId  Count\n",
       "626    4151      6\n",
       "200    1681      6\n",
       "208    1697      6\n",
       "207    1695      6\n",
       "464    3406      6\n",
       "..      ...    ...\n",
       "310    2159      2\n",
       "386    3051      2\n",
       "604    3973      2\n",
       "298    2132      2\n",
       "463    3405      1\n",
       "\n",
       "[627 rows x 2 columns]"
      ]
     },
     "execution_count": 126,
     "metadata": {},
     "output_type": "execute_result"
    }
   ],
   "source": [
    "#how many times is each sentence annotated in df_aae\n",
    "df_aae.groupby(['postId']).size().reset_index(name='Count').sort_values(by=['Count'], ascending=False)"
   ]
  },
  {
   "attachments": {},
   "cell_type": "markdown",
   "metadata": {},
   "source": [
    "# Text Embedding only"
   ]
  },
  {
   "cell_type": "code",
   "execution_count": 20,
   "metadata": {},
   "outputs": [
    {
     "name": "stderr",
     "output_type": "stream",
     "text": [
      "[nltk_data] Downloading package stopwords to\n",
      "[nltk_data]     /Users/yarakhater/nltk_data...\n",
      "[nltk_data]   Package stopwords is already up-to-date!\n"
     ]
    }
   ],
   "source": [
    "nltk.download('stopwords')\n",
    "stop_words = set(stopwords.words('english'))\n",
    "\n",
    "pretrained_embeddings, fasttext_vocab = utils.get_fasttext()"
   ]
  },
  {
   "cell_type": "code",
   "execution_count": 21,
   "metadata": {},
   "outputs": [
    {
     "name": "stderr",
     "output_type": "stream",
     "text": [
      "/Users/yarakhater/Desktop/annotator_disagreement/models/utils.py:14: FutureWarning: The default value of regex will change from True to False in a future version.\n",
      "  df[column_name] = df[column_name].str.replace('[\\W_]', ' ')\n",
      "/Users/yarakhater/Desktop/annotator_disagreement/models/utils.py:23: FutureWarning: The default value of regex will change from True to False in a future version.\n",
      "  df[column_name] = df[column_name].str.replace('\\d+', '')\n"
     ]
    }
   ],
   "source": [
    "df_aae = utils.clean_text(df_aae, 'tweet', stop_words)"
   ]
  },
  {
   "cell_type": "code",
   "execution_count": 22,
   "metadata": {},
   "outputs": [],
   "source": [
    "df_aae['text_ids'] = df_aae['tweet'].apply(lambda x: x.split())\n",
    "df_aae['text_ids'] = df_aae['text_ids'].apply(fasttext_vocab)"
   ]
  },
  {
   "cell_type": "code",
   "execution_count": 23,
   "metadata": {},
   "outputs": [],
   "source": [
    "splitter = GroupShuffleSplit(test_size=0.2, n_splits=2, random_state = 3)\n",
    "split = splitter.split(df_aae, groups = df_aae['postId'])\n",
    "train_inds, test_inds = next(split)\n",
    "\n",
    "\n",
    "train_df = df_aae.iloc[train_inds]\n",
    "test_df = df_aae.iloc[test_inds]\n",
    "\n",
    "train_df = train_df.sample(frac=1)\n",
    "test_df = test_df.sample(frac=1)"
   ]
  },
  {
   "cell_type": "code",
   "execution_count": 24,
   "metadata": {},
   "outputs": [
    {
     "data": {
      "text/plain": [
       "164"
      ]
     },
     "execution_count": 24,
     "metadata": {},
     "output_type": "execute_result"
    }
   ],
   "source": [
    "len(train_df['annId'].unique())"
   ]
  },
  {
   "cell_type": "code",
   "execution_count": 25,
   "metadata": {},
   "outputs": [
    {
     "data": {
      "text/plain": [
       "95"
      ]
     },
     "execution_count": 25,
     "metadata": {},
     "output_type": "execute_result"
    }
   ],
   "source": [
    "len(test_df[\"annId\"].unique())"
   ]
  },
  {
   "cell_type": "code",
   "execution_count": 26,
   "metadata": {},
   "outputs": [
    {
     "data": {
      "text/plain": [
       "184"
      ]
     },
     "execution_count": 26,
     "metadata": {},
     "output_type": "execute_result"
    }
   ],
   "source": [
    "len(df[\"annId\"].unique())"
   ]
  },
  {
   "cell_type": "code",
   "execution_count": 33,
   "metadata": {},
   "outputs": [
    {
     "name": "stdout",
     "output_type": "stream",
     "text": [
      "tensor(0.0053, grad_fn=<MeanBackward0>) tensor(1.0039, grad_fn=<VarBackward0>)\n",
      "Epoch [1/20], Loss: 1.6244\n",
      "Epoch [2/20], Loss: 1.6230\n",
      "Epoch [3/20], Loss: 1.6119\n",
      "Epoch [4/20], Loss: 1.5981\n",
      "Epoch [5/20], Loss: 1.5833\n",
      "Epoch [6/20], Loss: 1.5684\n",
      "Epoch [7/20], Loss: 1.5541\n",
      "Epoch [8/20], Loss: 1.5407\n",
      "Epoch [9/20], Loss: 1.5281\n",
      "Epoch [10/20], Loss: 1.5164\n",
      "Epoch [11/20], Loss: 1.5054\n",
      "Epoch [12/20], Loss: 1.4946\n",
      "Epoch [13/20], Loss: 1.4838\n",
      "Epoch [14/20], Loss: 1.4746\n",
      "Epoch [15/20], Loss: 1.4657\n",
      "Epoch [16/20], Loss: 1.4556\n",
      "Epoch [17/20], Loss: 1.4485\n",
      "Epoch [18/20], Loss: 1.4405\n",
      "Epoch [19/20], Loss: 1.4323\n",
      "Epoch [20/20], Loss: 1.4250\n"
     ]
    }
   ],
   "source": [
    "classifier1 = MLP.train(pretrained_embeddings, train_df['text_ids'], train_df['annId'], len(df_aae[\"annId\"].unique()),train_df['toany'], len(train_df[\"toany\"].unique()),mode=\"text\")"
   ]
  },
  {
   "cell_type": "code",
   "execution_count": 34,
   "metadata": {},
   "outputs": [
    {
     "name": "stdout",
     "output_type": "stream",
     "text": [
      "Accuracy of the model on the test set: 31.59722222222222 %\n"
     ]
    }
   ],
   "source": [
    "predicted = MLP.test(test_df['text_ids'], test_df['annId'], test_df['toany'], classifier1, mode=\"text\")"
   ]
  },
  {
   "cell_type": "code",
   "execution_count": 39,
   "metadata": {},
   "outputs": [
    {
     "name": "stdout",
     "output_type": "stream",
     "text": [
      "tensor(-0.0210, grad_fn=<MeanBackward0>) tensor(1.0069, grad_fn=<VarBackward0>)\n",
      "Epoch [1/20], Loss: 1.5727\n",
      "Epoch [2/20], Loss: 1.4820\n",
      "Epoch [3/20], Loss: 1.4368\n",
      "Epoch [4/20], Loss: 1.4147\n",
      "Epoch [5/20], Loss: 1.3939\n",
      "Epoch [6/20], Loss: 1.3773\n",
      "Epoch [7/20], Loss: 1.3609\n",
      "Epoch [8/20], Loss: 1.3501\n",
      "Epoch [9/20], Loss: 1.3392\n",
      "Epoch [10/20], Loss: 1.3266\n",
      "Epoch [11/20], Loss: 1.3081\n",
      "Epoch [12/20], Loss: 1.2922\n",
      "Epoch [13/20], Loss: 1.2814\n",
      "Epoch [14/20], Loss: 1.2648\n",
      "Epoch [15/20], Loss: 1.2515\n",
      "Epoch [16/20], Loss: 1.2413\n",
      "Epoch [17/20], Loss: 1.2284\n",
      "Epoch [18/20], Loss: 1.2188\n",
      "Epoch [19/20], Loss: 1.2095\n",
      "Epoch [20/20], Loss: 1.1988\n"
     ]
    }
   ],
   "source": [
    "classifier_2 = MLP.train(pretrained_embeddings, train_df['text_ids'], train_df['annId'], len(df_aae['annId'].unique()), train_df['toany'], len(train_df[\"toany\"].unique()), mode=\"text_annotators\")"
   ]
  },
  {
   "cell_type": "code",
   "execution_count": 40,
   "metadata": {},
   "outputs": [
    {
     "name": "stdout",
     "output_type": "stream",
     "text": [
      "Accuracy of the model on the test set: 37.673611111111114 %\n"
     ]
    }
   ],
   "source": [
    "predicted = MLP.test(test_df['text_ids'], test_df['annId'], test_df['toany'], classifier_2, mode=\"text_annotators\")"
   ]
  },
  {
   "cell_type": "code",
   "execution_count": 49,
   "metadata": {},
   "outputs": [
    {
     "name": "stdout",
     "output_type": "stream",
     "text": [
      "tensor(0.0014, grad_fn=<MeanBackward0>) tensor(0.9946, grad_fn=<VarBackward0>)\n",
      "Epoch [1/20], Loss: 1.3632\n",
      "Epoch [2/20], Loss: 1.3547\n",
      "Epoch [3/20], Loss: 1.3549\n",
      "Epoch [4/20], Loss: 1.3503\n",
      "Epoch [5/20], Loss: 1.3499\n",
      "Epoch [6/20], Loss: 1.3465\n",
      "Epoch [7/20], Loss: 1.3447\n",
      "Epoch [8/20], Loss: 1.3419\n",
      "Epoch [9/20], Loss: 1.3413\n",
      "Epoch [10/20], Loss: 1.3378\n",
      "Epoch [11/20], Loss: 1.3341\n",
      "Epoch [12/20], Loss: 1.3319\n",
      "Epoch [13/20], Loss: 1.3286\n",
      "Epoch [14/20], Loss: 1.3252\n",
      "Epoch [15/20], Loss: 1.3212\n",
      "Epoch [16/20], Loss: 1.3181\n",
      "Epoch [17/20], Loss: 1.3206\n",
      "Epoch [18/20], Loss: 1.3090\n",
      "Epoch [19/20], Loss: 1.3058\n",
      "Epoch [20/20], Loss: 1.3000\n"
     ]
    }
   ],
   "source": [
    "classifier_3 = MLP.train(pretrained_embeddings, train_df['text_ids'], train_df['annId'], len(df_aae['annId'].unique()), train_df['toany'], len(train_df[\"toany\"].unique()), mode=\"text_groups\", nb_groups=3)"
   ]
  },
  {
   "cell_type": "code",
   "execution_count": 50,
   "metadata": {},
   "outputs": [
    {
     "name": "stdout",
     "output_type": "stream",
     "text": [
      "Accuracy of the model on the test set: 34.72222222222222 %\n"
     ]
    }
   ],
   "source": [
    "predicted = MLP.test(test_df['text_ids'], test_df['annId'], test_df['toany'], classifier_3, mode=\"text_groups\")"
   ]
  },
  {
   "cell_type": "code",
   "execution_count": 51,
   "metadata": {},
   "outputs": [],
   "source": [
    "classifier_3.load_state_dict(classifier_3.state_dict())\n",
    "classifier_3.eval()\n",
    "group_assignment_trained = classifier_3.group_assignment"
   ]
  },
  {
   "cell_type": "code",
   "execution_count": 52,
   "metadata": {},
   "outputs": [
    {
     "data": {
      "text/plain": [
       "tensor([2, 0, 1, 2, 0, 2, 1, 2, 1, 0, 1, 0, 0, 0, 1, 1, 2, 0, 0, 2, 1, 0, 1, 0,\n",
       "        1, 0, 0, 0, 1, 2, 1, 1, 2, 0, 2, 2, 1, 1, 0, 0, 1, 1, 2, 2, 1, 0, 0, 0,\n",
       "        0, 0, 1, 1, 1, 1, 0, 0, 1, 1, 1, 1, 0, 1, 0, 0, 0, 2, 1, 1, 1, 1, 0, 1,\n",
       "        2, 2, 1, 0, 2, 1, 1, 2, 0, 2, 1, 2, 1, 0, 2, 0, 2, 2, 2, 0, 1, 1, 2, 1,\n",
       "        1, 2, 2, 1, 0, 1, 1, 2, 0, 1, 0, 2, 0, 2, 0, 1, 0, 0, 0, 2, 1, 1, 1, 0,\n",
       "        1, 0, 0, 2, 2, 0, 2, 2, 2, 0, 0, 0, 2, 2, 2, 0, 2, 0, 2, 1, 0, 2, 0, 0,\n",
       "        1, 0, 1, 1, 0, 1, 2, 2, 1, 1, 0, 0, 2, 2, 0, 1, 0, 0, 0, 2, 1, 1, 2, 2,\n",
       "        1, 2, 2, 2, 0, 2, 0])"
      ]
     },
     "execution_count": 52,
     "metadata": {},
     "output_type": "execute_result"
    }
   ],
   "source": [
    "clusters = group_assignment_trained.max(dim=1).indices\n",
    "clusters"
   ]
  },
  {
   "cell_type": "code",
   "execution_count": 55,
   "metadata": {},
   "outputs": [
    {
     "data": {
      "text/html": [
       "<div>\n",
       "<style scoped>\n",
       "    .dataframe tbody tr th:only-of-type {\n",
       "        vertical-align: middle;\n",
       "    }\n",
       "\n",
       "    .dataframe tbody tr th {\n",
       "        vertical-align: top;\n",
       "    }\n",
       "\n",
       "    .dataframe thead th {\n",
       "        text-align: right;\n",
       "    }\n",
       "</style>\n",
       "<table border=\"1\" class=\"dataframe\">\n",
       "  <thead>\n",
       "    <tr style=\"text-align: right;\">\n",
       "      <th></th>\n",
       "      <th>annId</th>\n",
       "      <th>annotatorAge</th>\n",
       "      <th>annotatorGender</th>\n",
       "      <th>annotatorMinority</th>\n",
       "      <th>annotatorRace</th>\n",
       "      <th>annotatorPolitics</th>\n",
       "    </tr>\n",
       "  </thead>\n",
       "  <tbody>\n",
       "    <tr>\n",
       "      <th>0</th>\n",
       "      <td>0</td>\n",
       "      <td>40.0</td>\n",
       "      <td>woman</td>\n",
       "      <td>{}</td>\n",
       "      <td>black</td>\n",
       "      <td>-0.5</td>\n",
       "    </tr>\n",
       "    <tr>\n",
       "      <th>1</th>\n",
       "      <td>1</td>\n",
       "      <td>35.0</td>\n",
       "      <td>man</td>\n",
       "      <td>{}</td>\n",
       "      <td>black</td>\n",
       "      <td>0.0</td>\n",
       "    </tr>\n",
       "    <tr>\n",
       "      <th>3</th>\n",
       "      <td>2</td>\n",
       "      <td>45.0</td>\n",
       "      <td>man</td>\n",
       "      <td>{}</td>\n",
       "      <td>black</td>\n",
       "      <td>0.0</td>\n",
       "    </tr>\n",
       "    <tr>\n",
       "      <th>6</th>\n",
       "      <td>3</td>\n",
       "      <td>30.0</td>\n",
       "      <td>woman</td>\n",
       "      <td>{}</td>\n",
       "      <td>black</td>\n",
       "      <td>-0.5</td>\n",
       "    </tr>\n",
       "    <tr>\n",
       "      <th>8</th>\n",
       "      <td>4</td>\n",
       "      <td>40.0</td>\n",
       "      <td>woman</td>\n",
       "      <td>black; female</td>\n",
       "      <td>black</td>\n",
       "      <td>-1.0</td>\n",
       "    </tr>\n",
       "    <tr>\n",
       "      <th>...</th>\n",
       "      <td>...</td>\n",
       "      <td>...</td>\n",
       "      <td>...</td>\n",
       "      <td>...</td>\n",
       "      <td>...</td>\n",
       "      <td>...</td>\n",
       "    </tr>\n",
       "    <tr>\n",
       "      <th>3304</th>\n",
       "      <td>170</td>\n",
       "      <td>30.0</td>\n",
       "      <td>woman</td>\n",
       "      <td>{}</td>\n",
       "      <td>white</td>\n",
       "      <td>0.5</td>\n",
       "    </tr>\n",
       "    <tr>\n",
       "      <th>3317</th>\n",
       "      <td>171</td>\n",
       "      <td>30.0</td>\n",
       "      <td>man</td>\n",
       "      <td>None</td>\n",
       "      <td>white</td>\n",
       "      <td>-0.5</td>\n",
       "    </tr>\n",
       "    <tr>\n",
       "      <th>3385</th>\n",
       "      <td>172</td>\n",
       "      <td>30.0</td>\n",
       "      <td>man</td>\n",
       "      <td>{}</td>\n",
       "      <td>white</td>\n",
       "      <td>-1.0</td>\n",
       "    </tr>\n",
       "    <tr>\n",
       "      <th>3402</th>\n",
       "      <td>173</td>\n",
       "      <td>40.0</td>\n",
       "      <td>woman</td>\n",
       "      <td>{}</td>\n",
       "      <td>white</td>\n",
       "      <td>-1.0</td>\n",
       "    </tr>\n",
       "    <tr>\n",
       "      <th>3443</th>\n",
       "      <td>174</td>\n",
       "      <td>65.0</td>\n",
       "      <td>woman</td>\n",
       "      <td>senior citizen, gender identity</td>\n",
       "      <td>white</td>\n",
       "      <td>-1.0</td>\n",
       "    </tr>\n",
       "  </tbody>\n",
       "</table>\n",
       "<p>175 rows × 6 columns</p>\n",
       "</div>"
      ],
      "text/plain": [
       "      annId  annotatorAge annotatorGender                annotatorMinority  \\\n",
       "0         0          40.0           woman                               {}   \n",
       "1         1          35.0             man                               {}   \n",
       "3         2          45.0             man                               {}   \n",
       "6         3          30.0           woman                               {}   \n",
       "8         4          40.0           woman                    black; female   \n",
       "...     ...           ...             ...                              ...   \n",
       "3304    170          30.0           woman                               {}   \n",
       "3317    171          30.0             man                             None   \n",
       "3385    172          30.0             man                               {}   \n",
       "3402    173          40.0           woman                               {}   \n",
       "3443    174          65.0           woman  senior citizen, gender identity   \n",
       "\n",
       "     annotatorRace  annotatorPolitics  \n",
       "0            black               -0.5  \n",
       "1            black                0.0  \n",
       "3            black                0.0  \n",
       "6            black               -0.5  \n",
       "8            black               -1.0  \n",
       "...            ...                ...  \n",
       "3304         white                0.5  \n",
       "3317         white               -0.5  \n",
       "3385         white               -1.0  \n",
       "3402         white               -1.0  \n",
       "3443         white               -1.0  \n",
       "\n",
       "[175 rows x 6 columns]"
      ]
     },
     "execution_count": 55,
     "metadata": {},
     "output_type": "execute_result"
    }
   ],
   "source": [
    "df_aae_annotator"
   ]
  },
  {
   "cell_type": "code",
   "execution_count": 57,
   "metadata": {},
   "outputs": [
    {
     "data": {
      "text/plain": [
       "<Axes: xlabel='Clusters'>"
      ]
     },
     "execution_count": 57,
     "metadata": {},
     "output_type": "execute_result"
    },
    {
     "data": {
      "image/png": "[encoded data removed]",
      "text/plain": [
       "<Figure size 640x480 with 1 Axes>"
      ]
     },
     "metadata": {},
     "output_type": "display_data"
    }
   ],
   "source": [
    "data = pd.DataFrame({'Clusters': clusters, 'Gender': df_aae_annotator['annotatorGender']})\n",
    "grouped_data = data.groupby(['Clusters', 'Gender']).size().reset_index(name='Count')\n",
    "pivot_table = grouped_data.pivot(index='Clusters', columns='Gender', values='Count')\n",
    "pivot_table.plot(kind='bar', stacked=True)"
   ]
  },
  {
   "cell_type": "code",
   "execution_count": 58,
   "metadata": {},
   "outputs": [
    {
     "data": {
      "text/plain": [
       "<Axes: xlabel='Clusters'>"
      ]
     },
     "execution_count": 58,
     "metadata": {},
     "output_type": "execute_result"
    },
    {
     "data": {
      "image/png": "[encoded data removed]",
      "text/plain": [
       "<Figure size 640x480 with 1 Axes>"
      ]
     },
     "metadata": {},
     "output_type": "display_data"
    }
   ],
   "source": [
    "data = pd.DataFrame({'Clusters': clusters, 'Race': df_aae_annotator['annotatorRace']})\n",
    "grouped_data = data.groupby(['Clusters', 'Race']).size().reset_index(name='Count')\n",
    "pivot_table = grouped_data.pivot(index='Clusters', columns='Race', values='Count')\n",
    "pivot_table.plot(kind='bar', stacked=True)"
   ]
  },
  {
   "cell_type": "code",
   "execution_count": 59,
   "metadata": {},
   "outputs": [
    {
     "data": {
      "text/plain": [
       "<Axes: xlabel='Clusters'>"
      ]
     },
     "execution_count": 59,
     "metadata": {},
     "output_type": "execute_result"
    },
    {
     "data": {
      "image/png": "[encoded data removed]",
      "text/plain": [
       "<Figure size 640x480 with 1 Axes>"
      ]
     },
     "metadata": {},
     "output_type": "display_data"
    }
   ],
   "source": [
    "data = pd.DataFrame({'Clusters': clusters, 'Politics': df_aae_annotator['annotatorPolitics']})\n",
    "grouped_data = data.groupby(['Clusters', 'Politics']).size().reset_index(name='Count')\n",
    "pivot_table = grouped_data.pivot(index='Clusters', columns='Politics', values='Count')\n",
    "pivot_table.plot(kind='bar', stacked=True)"
   ]
  },
  {
   "attachments": {},
   "cell_type": "markdown",
   "metadata": {},
   "source": [
    "## annotator embeddings"
   ]
  },
  {
   "cell_type": "code",
   "execution_count": 66,
   "metadata": {},
   "outputs": [],
   "source": [
    "classifier_2.load_state_dict(classifier_2.state_dict())\n",
    "classifier_2.eval()\n",
    "rater_embeddings_trained = classifier_2.rater_embedding.weight"
   ]
  },
  {
   "cell_type": "code",
   "execution_count": 73,
   "metadata": {},
   "outputs": [
    {
     "data": {
      "image/png": "[encoded data removed]",
      "text/plain": [
       "<Figure size 640x480 with 1 Axes>"
      ]
     },
     "metadata": {},
     "output_type": "display_data"
    }
   ],
   "source": [
    "X = np.array(rater_embeddings_trained.detach().numpy())\n",
    "# Compute the singular value decomposition of the embeddings\n",
    "U, s, Vt = np.linalg.svd(X, full_matrices=False)\n",
    "S = np.diag(s)\n",
    "VT = Vt.T\n",
    "\n",
    "# Project the embeddings onto the first two principal components\n",
    "X = np.dot(X, VT[:, :2])\n",
    "\n",
    "# anxiety score\n",
    "\n",
    "colors = ['red' if score < 60 else 'blue' for score in df_aae_annotator['annotatorAge']]\n",
    "\n",
    "# Plot the embeddings in 2D\n",
    "plt.scatter(X[:, 0], X[:, 1] )\n",
    "plt.show()\n"
   ]
  },
  {
   "cell_type": "code",
   "execution_count": 76,
   "metadata": {},
   "outputs": [
    {
     "data": {
      "image/png": "[encoded data removed]",
      "text/plain": [
       "<Figure size 640x480 with 1 Axes>"
      ]
     },
     "metadata": {},
     "output_type": "display_data"
    }
   ],
   "source": [
    "colors = ['red' if gender==\"man\"  else 'blue' for gender in df_aae_annotator[\"annotatorGender\"]]\n",
    "\n",
    "# Plot the embeddings in 2D\n",
    "plt.scatter(X[:, 0], X[:, 1], c= colors)\n",
    "plt.show()"
   ]
  },
  {
   "cell_type": "code",
   "execution_count": null,
   "metadata": {},
   "outputs": [],
   "source": []
  }
 ],
 "metadata": {
  "kernelspec": {
   "display_name": "Python 3",
   "language": "python",
   "name": "python3"
  },
  "language_info": {
   "codemirror_mode": {
    "name": "ipython",
    "version": 3
   },
   "file_extension": ".py",
   "mimetype": "text/x-python",
   "name": "python",
   "nbconvert_exporter": "python",
   "pygments_lexer": "ipython3",
   "version": "3.9.13"
  },
  "orig_nbformat": 4
 },
 "nbformat": 4,
 "nbformat_minor": 2
}
