{
 "cells": [
  {
   "cell_type": "code",
   "execution_count": 32,
   "metadata": {},
   "outputs": [],
   "source": [
    "import pandas as pd\n",
    "import numpy as np\n",
    "from scipy.special import logsumexp\n",
    "from sklearn.model_selection import GroupShuffleSplit \n",
    "from models import utils\n",
    "from models import mace, latent_annotator_clustering\n",
    "import matplotlib.pyplot as plt\n",
    "from sklearn.metrics.cluster import homogeneity_score, completeness_score, v_measure_score"
   ]
  },
  {
   "cell_type": "code",
   "execution_count": 33,
   "metadata": {},
   "outputs": [],
   "source": [
    "train_df = pd.read_csv('./data/sap2019risk_mTurkExperiment.csv',delimiter=',', encoding='latin-1')\n",
    "train_df = train_df.dropna(subset=['offensive2anyoneYN'])\n",
    "annotator_df = train_df[['WorkerIdHashed','annotatorPolitics','annotatorRace','annotatorAge','annotatorGender']].drop_duplicates().dropna()\n"
   ]
  },
  {
   "cell_type": "code",
   "execution_count": 34,
   "metadata": {},
   "outputs": [],
   "source": [
    "#drop all the rows with any  \"na\" values in annotator_df\n",
    "annotator_df = annotator_df[annotator_df.annotatorPolitics != \"na\"]\n",
    "annotator_df = annotator_df[annotator_df.annotatorRace != \"na\"]\n",
    "annotator_df = annotator_df[annotator_df.annotatorAge != \"na\"]\n",
    "annotator_df = annotator_df[annotator_df.annotatorGender != \"na\"]\n"
   ]
  },
  {
   "cell_type": "code",
   "execution_count": 35,
   "metadata": {},
   "outputs": [
    {
     "data": {
      "text/plain": [
       "(11706, 372)"
      ]
     },
     "execution_count": 35,
     "metadata": {},
     "output_type": "execute_result"
    }
   ],
   "source": [
    "len(train_df), len(annotator_df)"
   ]
  },
  {
   "cell_type": "code",
   "execution_count": 36,
   "metadata": {},
   "outputs": [
    {
     "data": {
      "text/plain": [
       "(321, 372)"
      ]
     },
     "execution_count": 36,
     "metadata": {},
     "output_type": "execute_result"
    }
   ],
   "source": [
    "len(annotator_df[\"WorkerIdHashed\"].unique().tolist()), len(annotator_df[\"WorkerIdHashed\"].tolist())"
   ]
  },
  {
   "cell_type": "code",
   "execution_count": 37,
   "metadata": {},
   "outputs": [
    {
     "data": {
      "text/html": [
       "<div>\n",
       "<style scoped>\n",
       "    .dataframe tbody tr th:only-of-type {\n",
       "        vertical-align: middle;\n",
       "    }\n",
       "\n",
       "    .dataframe tbody tr th {\n",
       "        vertical-align: top;\n",
       "    }\n",
       "\n",
       "    .dataframe thead th {\n",
       "        text-align: right;\n",
       "    }\n",
       "</style>\n",
       "<table border=\"1\" class=\"dataframe\">\n",
       "  <thead>\n",
       "    <tr style=\"text-align: right;\">\n",
       "      <th></th>\n",
       "      <th>annotatorAge</th>\n",
       "      <th>annotatorGender</th>\n",
       "      <th>annotatorMinority</th>\n",
       "      <th>annotatorPolitics</th>\n",
       "      <th>annotatorRace</th>\n",
       "      <th>intentYN</th>\n",
       "      <th>offensive2anyoneYN</th>\n",
       "      <th>offensive2youYN</th>\n",
       "      <th>dialectIsWrong</th>\n",
       "      <th>raceIsWrong</th>\n",
       "      <th>WorkerIdHashed</th>\n",
       "      <th>tweet</th>\n",
       "      <th>dialect</th>\n",
       "      <th>condition</th>\n",
       "      <th>username</th>\n",
       "      <th>davidson_label</th>\n",
       "      <th>founta_label</th>\n",
       "    </tr>\n",
       "  </thead>\n",
       "  <tbody>\n",
       "    <tr>\n",
       "      <th>0</th>\n",
       "      <td>31</td>\n",
       "      <td>man</td>\n",
       "      <td>{}</td>\n",
       "      <td>liberal</td>\n",
       "      <td>white</td>\n",
       "      <td>0.000000</td>\n",
       "      <td>0.0</td>\n",
       "      <td>0.0</td>\n",
       "      <td>NaN</td>\n",
       "      <td>NaN</td>\n",
       "      <td>ab647dbde8ff4aab46c8cec7bdefad95</td>\n",
       "      <td>RT @user: When yo phone go off in class &amp;amp; ...</td>\n",
       "      <td>NaN</td>\n",
       "      <td>text-only</td>\n",
       "      <td>A Twitter User</td>\n",
       "      <td>neither_rel</td>\n",
       "      <td>NaN</td>\n",
       "    </tr>\n",
       "    <tr>\n",
       "      <th>1</th>\n",
       "      <td>37</td>\n",
       "      <td>man</td>\n",
       "      <td>{}</td>\n",
       "      <td>libert</td>\n",
       "      <td>white</td>\n",
       "      <td>0.000000</td>\n",
       "      <td>0.0</td>\n",
       "      <td>0.0</td>\n",
       "      <td>NaN</td>\n",
       "      <td>NaN</td>\n",
       "      <td>599ea0e2bcdac7f3458cb38410b08369</td>\n",
       "      <td>RT @user: When yo phone go off in class &amp;amp; ...</td>\n",
       "      <td>NaN</td>\n",
       "      <td>text-only</td>\n",
       "      <td>A Twitter User</td>\n",
       "      <td>neither_rel</td>\n",
       "      <td>NaN</td>\n",
       "    </tr>\n",
       "    <tr>\n",
       "      <th>2</th>\n",
       "      <td>100</td>\n",
       "      <td>woman</td>\n",
       "      <td>{}</td>\n",
       "      <td>liberal</td>\n",
       "      <td>asian</td>\n",
       "      <td>0.000000</td>\n",
       "      <td>0.0</td>\n",
       "      <td>0.0</td>\n",
       "      <td>NaN</td>\n",
       "      <td>NaN</td>\n",
       "      <td>652a3b795ccd59abc037cfbc94e77921</td>\n",
       "      <td>RT @user: When yo phone go off in class &amp;amp; ...</td>\n",
       "      <td>NaN</td>\n",
       "      <td>text-only</td>\n",
       "      <td>A Twitter User</td>\n",
       "      <td>neither_rel</td>\n",
       "      <td>NaN</td>\n",
       "    </tr>\n",
       "    <tr>\n",
       "      <th>3</th>\n",
       "      <td>22</td>\n",
       "      <td>man</td>\n",
       "      <td>{}</td>\n",
       "      <td>liberal</td>\n",
       "      <td>asian</td>\n",
       "      <td>0.666667</td>\n",
       "      <td>1.0</td>\n",
       "      <td>0.0</td>\n",
       "      <td>NaN</td>\n",
       "      <td>NaN</td>\n",
       "      <td>7bf3e76c903d5297d5b03b8615e1d489</td>\n",
       "      <td>@user yu forgot we beat yall? Thats like a gar...</td>\n",
       "      <td>NaN</td>\n",
       "      <td>text-only</td>\n",
       "      <td>A Twitter User</td>\n",
       "      <td>neither_rel</td>\n",
       "      <td>NaN</td>\n",
       "    </tr>\n",
       "    <tr>\n",
       "      <th>4</th>\n",
       "      <td>50</td>\n",
       "      <td>woman</td>\n",
       "      <td>sexuality</td>\n",
       "      <td>liberal</td>\n",
       "      <td>white</td>\n",
       "      <td>0.333333</td>\n",
       "      <td>0.5</td>\n",
       "      <td>0.0</td>\n",
       "      <td>NaN</td>\n",
       "      <td>NaN</td>\n",
       "      <td>342401c2a0796a7cbc2f4623a959e86b</td>\n",
       "      <td>@user yu forgot we beat yall? Thats like a gar...</td>\n",
       "      <td>NaN</td>\n",
       "      <td>text-only</td>\n",
       "      <td>A Twitter User</td>\n",
       "      <td>neither_rel</td>\n",
       "      <td>NaN</td>\n",
       "    </tr>\n",
       "    <tr>\n",
       "      <th>...</th>\n",
       "      <td>...</td>\n",
       "      <td>...</td>\n",
       "      <td>...</td>\n",
       "      <td>...</td>\n",
       "      <td>...</td>\n",
       "      <td>...</td>\n",
       "      <td>...</td>\n",
       "      <td>...</td>\n",
       "      <td>...</td>\n",
       "      <td>...</td>\n",
       "      <td>...</td>\n",
       "      <td>...</td>\n",
       "      <td>...</td>\n",
       "      <td>...</td>\n",
       "      <td>...</td>\n",
       "      <td>...</td>\n",
       "      <td>...</td>\n",
       "    </tr>\n",
       "    <tr>\n",
       "      <th>11701</th>\n",
       "      <td>35</td>\n",
       "      <td>woman</td>\n",
       "      <td>Hispanic</td>\n",
       "      <td>liberal</td>\n",
       "      <td>hisp</td>\n",
       "      <td>0.000000</td>\n",
       "      <td>0.0</td>\n",
       "      <td>0.0</td>\n",
       "      <td>NaN</td>\n",
       "      <td>NaN</td>\n",
       "      <td>86afaf330e8dd382c65f7a34e20778fd</td>\n",
       "      <td>RT @user: When bae says somethin that pisses y...</td>\n",
       "      <td>Latino</td>\n",
       "      <td>race-priming</td>\n",
       "      <td>a Twitter user that is likely Latino/Latina/Hi...</td>\n",
       "      <td>NaN</td>\n",
       "      <td>abusive</td>\n",
       "    </tr>\n",
       "    <tr>\n",
       "      <th>11702</th>\n",
       "      <td>36</td>\n",
       "      <td>woman</td>\n",
       "      <td>sexuality</td>\n",
       "      <td>cons</td>\n",
       "      <td>white</td>\n",
       "      <td>0.666667</td>\n",
       "      <td>0.5</td>\n",
       "      <td>0.5</td>\n",
       "      <td>NaN</td>\n",
       "      <td>NaN</td>\n",
       "      <td>7dd4ef09b2f4f4bcc3bdd6c2d0a737f5</td>\n",
       "      <td>RT @user: When bae says somethin that pisses y...</td>\n",
       "      <td>Latino</td>\n",
       "      <td>race-priming</td>\n",
       "      <td>a Twitter user that is likely Latino/Latina/Hi...</td>\n",
       "      <td>NaN</td>\n",
       "      <td>abusive</td>\n",
       "    </tr>\n",
       "    <tr>\n",
       "      <th>11703</th>\n",
       "      <td>37</td>\n",
       "      <td>man</td>\n",
       "      <td>{}</td>\n",
       "      <td>other</td>\n",
       "      <td>white</td>\n",
       "      <td>0.333333</td>\n",
       "      <td>0.5</td>\n",
       "      <td>0.0</td>\n",
       "      <td>NaN</td>\n",
       "      <td>NaN</td>\n",
       "      <td>0e2042c5a1566807fd7b0e73943bfe7b</td>\n",
       "      <td>You dike bitches taken over ... smh nasty muth...</td>\n",
       "      <td>African-American</td>\n",
       "      <td>race-priming</td>\n",
       "      <td>a Twitter user that is likely Black/African-Am...</td>\n",
       "      <td>NaN</td>\n",
       "      <td>abusive</td>\n",
       "    </tr>\n",
       "    <tr>\n",
       "      <th>11704</th>\n",
       "      <td>36</td>\n",
       "      <td>woman</td>\n",
       "      <td>sexuality</td>\n",
       "      <td>cons</td>\n",
       "      <td>white</td>\n",
       "      <td>0.666667</td>\n",
       "      <td>0.5</td>\n",
       "      <td>0.5</td>\n",
       "      <td>NaN</td>\n",
       "      <td>NaN</td>\n",
       "      <td>7dd4ef09b2f4f4bcc3bdd6c2d0a737f5</td>\n",
       "      <td>You dike bitches taken over ... smh nasty muth...</td>\n",
       "      <td>African-American</td>\n",
       "      <td>race-priming</td>\n",
       "      <td>a Twitter user that is likely Black/African-Am...</td>\n",
       "      <td>NaN</td>\n",
       "      <td>abusive</td>\n",
       "    </tr>\n",
       "    <tr>\n",
       "      <th>11705</th>\n",
       "      <td>30</td>\n",
       "      <td>woman</td>\n",
       "      <td>{}</td>\n",
       "      <td>cons</td>\n",
       "      <td>white</td>\n",
       "      <td>1.000000</td>\n",
       "      <td>1.0</td>\n",
       "      <td>1.0</td>\n",
       "      <td>NaN</td>\n",
       "      <td>NaN</td>\n",
       "      <td>58bc2ce9785d7cd37c99d6fd6021c9e6</td>\n",
       "      <td>You dike bitches taken over ... smh nasty muth...</td>\n",
       "      <td>African-American</td>\n",
       "      <td>race-priming</td>\n",
       "      <td>a Twitter user that is likely Black/African-Am...</td>\n",
       "      <td>NaN</td>\n",
       "      <td>abusive</td>\n",
       "    </tr>\n",
       "  </tbody>\n",
       "</table>\n",
       "<p>11706 rows × 17 columns</p>\n",
       "</div>"
      ],
      "text/plain": [
       "      annotatorAge annotatorGender annotatorMinority annotatorPolitics  \\\n",
       "0               31             man                {}           liberal   \n",
       "1               37             man                {}            libert   \n",
       "2              100           woman                {}           liberal   \n",
       "3               22             man                {}           liberal   \n",
       "4               50           woman         sexuality           liberal   \n",
       "...            ...             ...               ...               ...   \n",
       "11701           35           woman          Hispanic           liberal   \n",
       "11702           36           woman         sexuality              cons   \n",
       "11703           37             man                {}             other   \n",
       "11704           36           woman         sexuality              cons   \n",
       "11705           30           woman                {}              cons   \n",
       "\n",
       "      annotatorRace  intentYN  offensive2anyoneYN  offensive2youYN  \\\n",
       "0             white  0.000000                 0.0              0.0   \n",
       "1             white  0.000000                 0.0              0.0   \n",
       "2             asian  0.000000                 0.0              0.0   \n",
       "3             asian  0.666667                 1.0              0.0   \n",
       "4             white  0.333333                 0.5              0.0   \n",
       "...             ...       ...                 ...              ...   \n",
       "11701          hisp  0.000000                 0.0              0.0   \n",
       "11702         white  0.666667                 0.5              0.5   \n",
       "11703         white  0.333333                 0.5              0.0   \n",
       "11704         white  0.666667                 0.5              0.5   \n",
       "11705         white  1.000000                 1.0              1.0   \n",
       "\n",
       "      dialectIsWrong raceIsWrong                    WorkerIdHashed  \\\n",
       "0                NaN         NaN  ab647dbde8ff4aab46c8cec7bdefad95   \n",
       "1                NaN         NaN  599ea0e2bcdac7f3458cb38410b08369   \n",
       "2                NaN         NaN  652a3b795ccd59abc037cfbc94e77921   \n",
       "3                NaN         NaN  7bf3e76c903d5297d5b03b8615e1d489   \n",
       "4                NaN         NaN  342401c2a0796a7cbc2f4623a959e86b   \n",
       "...              ...         ...                               ...   \n",
       "11701            NaN         NaN  86afaf330e8dd382c65f7a34e20778fd   \n",
       "11702            NaN         NaN  7dd4ef09b2f4f4bcc3bdd6c2d0a737f5   \n",
       "11703            NaN         NaN  0e2042c5a1566807fd7b0e73943bfe7b   \n",
       "11704            NaN         NaN  7dd4ef09b2f4f4bcc3bdd6c2d0a737f5   \n",
       "11705            NaN         NaN  58bc2ce9785d7cd37c99d6fd6021c9e6   \n",
       "\n",
       "                                                   tweet           dialect  \\\n",
       "0      RT @user: When yo phone go off in class &amp; ...               NaN   \n",
       "1      RT @user: When yo phone go off in class &amp; ...               NaN   \n",
       "2      RT @user: When yo phone go off in class &amp; ...               NaN   \n",
       "3      @user yu forgot we beat yall? Thats like a gar...               NaN   \n",
       "4      @user yu forgot we beat yall? Thats like a gar...               NaN   \n",
       "...                                                  ...               ...   \n",
       "11701  RT @user: When bae says somethin that pisses y...            Latino   \n",
       "11702  RT @user: When bae says somethin that pisses y...            Latino   \n",
       "11703  You dike bitches taken over ... smh nasty muth...  African-American   \n",
       "11704  You dike bitches taken over ... smh nasty muth...  African-American   \n",
       "11705  You dike bitches taken over ... smh nasty muth...  African-American   \n",
       "\n",
       "          condition                                           username  \\\n",
       "0         text-only                                     A Twitter User   \n",
       "1         text-only                                     A Twitter User   \n",
       "2         text-only                                     A Twitter User   \n",
       "3         text-only                                     A Twitter User   \n",
       "4         text-only                                     A Twitter User   \n",
       "...             ...                                                ...   \n",
       "11701  race-priming  a Twitter user that is likely Latino/Latina/Hi...   \n",
       "11702  race-priming  a Twitter user that is likely Latino/Latina/Hi...   \n",
       "11703  race-priming  a Twitter user that is likely Black/African-Am...   \n",
       "11704  race-priming  a Twitter user that is likely Black/African-Am...   \n",
       "11705  race-priming  a Twitter user that is likely Black/African-Am...   \n",
       "\n",
       "      davidson_label founta_label  \n",
       "0        neither_rel          NaN  \n",
       "1        neither_rel          NaN  \n",
       "2        neither_rel          NaN  \n",
       "3        neither_rel          NaN  \n",
       "4        neither_rel          NaN  \n",
       "...              ...          ...  \n",
       "11701            NaN      abusive  \n",
       "11702            NaN      abusive  \n",
       "11703            NaN      abusive  \n",
       "11704            NaN      abusive  \n",
       "11705            NaN      abusive  \n",
       "\n",
       "[11706 rows x 17 columns]"
      ]
     },
     "execution_count": 37,
     "metadata": {},
     "output_type": "execute_result"
    }
   ],
   "source": [
    "train_df"
   ]
  },
  {
   "cell_type": "code",
   "execution_count": 38,
   "metadata": {},
   "outputs": [],
   "source": [
    "# remove annotators that have annotated more than once with different demographics\n",
    "annotator_df = annotator_df[annotator_df[\"WorkerIdHashed\"].isin(annotator_df[\"WorkerIdHashed\"].value_counts()[annotator_df[\"WorkerIdHashed\"].value_counts() <= 1].index.tolist())]\n",
    "# create age groups for annotators and replace the age with the age group\n",
    "age_groups = ['18-24','25-34','35-44','45-54','55-64','65-74','75+']\n",
    "annotator_df['annotatorAge'] = pd.cut(annotator_df.annotatorAge.astype(int), bins=[18, 24, 34, 44, 54, 64, 74, 101], labels=age_groups, right=False)\n"
   ]
  },
  {
   "cell_type": "code",
   "execution_count": 39,
   "metadata": {},
   "outputs": [],
   "source": [
    "# drop all the rows in train_df where the workerid is not in annotator_df\n",
    "train_df = train_df[train_df.WorkerIdHashed.isin(annotator_df.WorkerIdHashed)]\n",
    "\n",
    "#remove all columns except for the ones that are in the annotator_df but keep the workerid column\n",
    "train_df = train_df[['WorkerIdHashed','tweet', 'offensive2anyoneYN', 'davidson_label']].drop_duplicates()"
   ]
  },
  {
   "cell_type": "code",
   "execution_count": 40,
   "metadata": {},
   "outputs": [
    {
     "data": {
      "text/plain": [
       "0.0    4439\n",
       "1.0    2957\n",
       "0.5    2048\n",
       "Name: offensive2anyoneYN, dtype: int64"
      ]
     },
     "execution_count": 40,
     "metadata": {},
     "output_type": "execute_result"
    }
   ],
   "source": [
    "train_df.offensive2anyoneYN.value_counts()"
   ]
  },
  {
   "cell_type": "code",
   "execution_count": 41,
   "metadata": {},
   "outputs": [],
   "source": [
    "sentiment_labels = [0, 0.5, 1]#['Not offensive','Somewhat offensive','Offensive']\n",
    "annotator_ids = annotator_df[\"WorkerIdHashed\"].unique().tolist()\n",
    "\n",
    "id2label = {index: row for (index, row) in enumerate(sentiment_labels)} \n",
    "label2id = {row: index for (index, row) in enumerate(sentiment_labels)}\n",
    "\n",
    "id2annotator = {index: row for (index, row) in enumerate(annotator_ids)}\n",
    "annotator2id = {row: index for (index, row) in enumerate(annotator_ids)}\n",
    "\n",
    "train_df['annotator_id'] = train_df.WorkerIdHashed.map(annotator2id)\n",
    "train_df['annotation'] = train_df.offensive2anyoneYN.map(label2id)\n",
    "annotator_df['annotator_id'] = annotator_df.WorkerIdHashed.map(annotator2id)\n"
   ]
  },
  {
   "cell_type": "code",
   "execution_count": 42,
   "metadata": {},
   "outputs": [],
   "source": [
    "pivot_df = pd.pivot_table(\n",
    "    train_df,\n",
    "    values='annotation',\n",
    "    index='tweet',\n",
    "    columns='annotator_id', \n",
    "    # aggfunc=lambda x: ''.join(x) # Concatenate multiple annotations if they exist for a single unit/annotator pair\n",
    ")\n",
    "\n",
    "pivot_df = pivot_df.fillna(-1)\n",
    "pivot_df.index.name = None\n",
    "pivot_df.columns.name = None\n",
    "\n"
   ]
  },
  {
   "cell_type": "code",
   "execution_count": 43,
   "metadata": {},
   "outputs": [
    {
     "data": {
      "text/plain": [
       "1323"
      ]
     },
     "execution_count": 43,
     "metadata": {},
     "output_type": "execute_result"
    }
   ],
   "source": [
    "len(pivot_df)"
   ]
  },
  {
   "cell_type": "code",
   "execution_count": 44,
   "metadata": {},
   "outputs": [
    {
     "data": {
      "text/plain": [
       "(1323,)"
      ]
     },
     "execution_count": 44,
     "metadata": {},
     "output_type": "execute_result"
    }
   ],
   "source": [
    "train_df.tweet.unique().shape"
   ]
  },
  {
   "cell_type": "code",
   "execution_count": 45,
   "metadata": {},
   "outputs": [],
   "source": [
    "data = list()\n",
    "\n",
    "# Iterate over the rows of the DataFrame\n",
    "for index, row in pivot_df.iterrows():\n",
    "    data.append(list())\n",
    "    for a in row.index:\n",
    "    # Extract the annotator and annotation values from the row\n",
    "        annotator = a\n",
    "        annotation = int(row[a])\n",
    "        # print(annotator, annotation)\n",
    "        if(annotation  != -1):\n",
    "        # Append the (annotator, annotation) pair to the data list\n",
    "            data[-1].append((annotator, annotation))"
   ]
  },
  {
   "cell_type": "code",
   "execution_count": 46,
   "metadata": {},
   "outputs": [],
   "source": [
    "A_ls, B_ls, C_ls, elbos_ls = latent_annotator_clustering.evaluate(data, len(train_df[\"annotation\"].unique()), len(train_df[\"annotator_id\"].unique()), 15, 300,15, smoothing=True, logspace=True)"
   ]
  },
  {
   "cell_type": "code",
   "execution_count": 47,
   "metadata": {},
   "outputs": [],
   "source": [
    "clusters = B_ls.argmax(axis=1)"
   ]
  },
  {
   "cell_type": "code",
   "execution_count": 48,
   "metadata": {},
   "outputs": [
    {
     "data": {
      "text/plain": [
       "<Axes: xlabel='Cluster'>"
      ]
     },
     "execution_count": 48,
     "metadata": {},
     "output_type": "execute_result"
    },
    {
     "data": {
      "image/png": "[encoded data removed]",
      "text/plain": [
       "<Figure size 640x480 with 1 Axes>"
      ]
     },
     "metadata": {},
     "output_type": "display_data"
    }
   ],
   "source": [
    "data = pd.DataFrame({'Cluster': clusters, 'Age Group': annotator_df[\"annotatorAge\"]})\n",
    "grouped_data = data.groupby(['Cluster', 'Age Group']).size().reset_index(name='Count')\n",
    "pivot_table = grouped_data.pivot(index='Cluster', columns='Age Group', values='Count')\n",
    "pivot_table.plot(kind='bar', stacked=True)"
   ]
  },
  {
   "cell_type": "code",
   "execution_count": 49,
   "metadata": {},
   "outputs": [
    {
     "data": {
      "text/plain": [
       "<Axes: xlabel='Cluster'>"
      ]
     },
     "execution_count": 49,
     "metadata": {},
     "output_type": "execute_result"
    },
    {
     "data": {
      "image/png": "[encoded data removed]",
      "text/plain": [
       "<Figure size 640x480 with 1 Axes>"
      ]
     },
     "metadata": {},
     "output_type": "display_data"
    }
   ],
   "source": [
    "data = pd.DataFrame({'Cluster': clusters, 'Politics': annotator_df[\"annotatorPolitics\"]})\n",
    "grouped_data = data.groupby(['Cluster', 'Politics']).size().reset_index(name='Count')\n",
    "pivot_table = grouped_data.pivot(index='Cluster', columns='Politics', values='Count')\n",
    "pivot_table.plot(kind='bar', stacked=True)"
   ]
  },
  {
   "cell_type": "code",
   "execution_count": 50,
   "metadata": {},
   "outputs": [
    {
     "data": {
      "text/plain": [
       "<Axes: xlabel='Cluster'>"
      ]
     },
     "execution_count": 50,
     "metadata": {},
     "output_type": "execute_result"
    },
    {
     "data": {
      "image/png": "[encoded data removed]",
      "text/plain": [
       "<Figure size 640x480 with 1 Axes>"
      ]
     },
     "metadata": {},
     "output_type": "display_data"
    }
   ],
   "source": [
    "data = pd.DataFrame({'Cluster': clusters, 'Gender': annotator_df[\"annotatorGender\"]})\n",
    "grouped_data = data.groupby(['Cluster', 'Gender']).size().reset_index(name='Count')\n",
    "pivot_table = grouped_data.pivot(index='Cluster', columns='Gender', values='Count')\n",
    "pivot_table.plot(kind='bar', stacked=True)"
   ]
  },
  {
   "cell_type": "code",
   "execution_count": 51,
   "metadata": {},
   "outputs": [
    {
     "data": {
      "text/plain": [
       "<Axes: xlabel='Cluster'>"
      ]
     },
     "execution_count": 51,
     "metadata": {},
     "output_type": "execute_result"
    },
    {
     "data": {
      "image/png": "[encoded data removed]",
      "text/plain": [
       "<Figure size 640x480 with 1 Axes>"
      ]
     },
     "metadata": {},
     "output_type": "display_data"
    }
   ],
   "source": [
    "data = pd.DataFrame({'Cluster': clusters, 'Race': annotator_df[\"annotatorRace\"]})\n",
    "grouped_data = data.groupby(['Cluster', 'Race']).size().reset_index(name='Count')\n",
    "pivot_table = grouped_data.pivot(index='Cluster', columns='Race', values='Count')\n",
    "pivot_table.plot(kind='bar', stacked=True)"
   ]
  },
  {
   "cell_type": "code",
   "execution_count": null,
   "metadata": {},
   "outputs": [],
   "source": []
  },
  {
   "cell_type": "code",
   "execution_count": null,
   "metadata": {},
   "outputs": [],
   "source": []
  },
  {
   "cell_type": "code",
   "execution_count": null,
   "metadata": {},
   "outputs": [],
   "source": []
  },
  {
   "cell_type": "code",
   "execution_count": null,
   "metadata": {},
   "outputs": [],
   "source": []
  }
 ],
 "metadata": {
  "kernelspec": {
   "display_name": "Python 3",
   "language": "python",
   "name": "python3"
  },
  "language_info": {
   "codemirror_mode": {
    "name": "ipython",
    "version": 3
   },
   "file_extension": ".py",
   "mimetype": "text/x-python",
   "name": "python",
   "nbconvert_exporter": "python",
   "pygments_lexer": "ipython3",
   "version": "3.9.13"
  },
  "orig_nbformat": 4
 },
 "nbformat": 4,
 "nbformat_minor": 2
}
